{
  "nbformat": 4,
  "nbformat_minor": 0,
  "metadata": {
    "colab": {
      "provenance": []
    },
    "kernelspec": {
      "name": "python3",
      "display_name": "Python 3"
    },
    "language_info": {
      "name": "python"
    }
  },
  "cells": [
    {
      "cell_type": "code",
      "execution_count": null,
      "metadata": {
        "id": "NAMZG7fV4ybe"
      },
      "outputs": [],
      "source": [
        "!pip install -r '/content/drive/MyDrive/Colab Notebooks/Stepik/NLP/requirements.txt'"
      ]
    },
    {
      "cell_type": "code",
      "source": [
        "nltk.download('stopwords')"
      ],
      "metadata": {
        "colab": {
          "base_uri": "https://localhost:8080/"
        },
        "id": "mTTj_1b77iaI",
        "outputId": "e3248f97-0264-475a-b97d-ac046e80c543"
      },
      "execution_count": 10,
      "outputs": [
        {
          "output_type": "stream",
          "name": "stderr",
          "text": [
            "[nltk_data] Downloading package stopwords to /root/nltk_data...\n",
            "[nltk_data]   Unzipping corpora/stopwords.zip.\n"
          ]
        },
        {
          "output_type": "execute_result",
          "data": {
            "text/plain": [
              "True"
            ]
          },
          "metadata": {},
          "execution_count": 10
        }
      ]
    },
    {
      "cell_type": "code",
      "source": [
        "!pip install scikit-learn"
      ],
      "metadata": {
        "colab": {
          "base_uri": "https://localhost:8080/"
        },
        "id": "_Z304v0rOllc",
        "outputId": "34435262-6cb6-40b3-d5d0-ae7d6425217e"
      },
      "execution_count": 40,
      "outputs": [
        {
          "output_type": "stream",
          "name": "stdout",
          "text": [
            "Requirement already satisfied: scikit-learn in /usr/local/lib/python3.10/dist-packages (1.2.2)\n",
            "Requirement already satisfied: numpy>=1.17.3 in /usr/local/lib/python3.10/dist-packages (from scikit-learn) (1.23.5)\n",
            "Requirement already satisfied: scipy>=1.3.2 in /usr/local/lib/python3.10/dist-packages (from scikit-learn) (1.11.3)\n",
            "Requirement already satisfied: joblib>=1.1.1 in /usr/local/lib/python3.10/dist-packages (from scikit-learn) (1.3.2)\n",
            "Requirement already satisfied: threadpoolctl>=2.0.0 in /usr/local/lib/python3.10/dist-packages (from scikit-learn) (3.2.0)\n"
          ]
        }
      ]
    },
    {
      "cell_type": "code",
      "source": [
        "import pandas as pd\n",
        "import numpy as np\n",
        "import nltk\n",
        "from nltk.corpus import stopwords\n",
        "import matplotlib.pyplot as plt\n",
        "import seaborn as sns\n",
        "\n",
        "from collections import defaultdict\n",
        "from sklearn.feature_extraction.text import TfidfVectorizer\n",
        "from sklearn.model_selection import train_test_split\n",
        "from sklearn.linear_model import LogisticRegression\n",
        "from sklearn.pipeline import Pipeline\n",
        "from sklearn.metrics import classification_report\n",
        "from sklearn.naive_bayes import MultinomialNB\n",
        "from sklearn.svm import SVC\n",
        "\n",
        "import gensim.downloader\n",
        "from gensim.models import Word2Vec, KeyedVectors\n",
        "from natasha import Doc, Segmenter, MorphVocab, NewsEmbedding, NewsMorphTagger\n",
        "\n",
        "import mlxtend\n",
        "from mlxtend.evaluate import paired_ttest_kfold_cv\n",
        "\n",
        "from plotly.offline import iplot\n",
        "import cufflinks as cf\n",
        "\n",
        "cf.go_offline()\n",
        "cf.set_config_file(offline=False, world_readable=True)"
      ],
      "metadata": {
        "colab": {
          "base_uri": "https://localhost:8080/",
          "height": 17
        },
        "id": "LGyig2tX6gG1",
        "outputId": "c093a7d1-e1a5-4656-e0e7-8c25a64a607f"
      },
      "execution_count": 42,
      "outputs": [
        {
          "output_type": "display_data",
          "data": {
            "text/html": [
              "        <script type=\"text/javascript\">\n",
              "        window.PlotlyConfig = {MathJaxConfig: 'local'};\n",
              "        if (window.MathJax && window.MathJax.Hub && window.MathJax.Hub.Config) {window.MathJax.Hub.Config({SVG: {font: \"STIX-Web\"}});}\n",
              "        if (typeof require !== 'undefined') {\n",
              "        require.undef(\"plotly\");\n",
              "        requirejs.config({\n",
              "            paths: {\n",
              "                'plotly': ['https://cdn.plot.ly/plotly-2.24.1.min']\n",
              "            }\n",
              "        });\n",
              "        require(['plotly'], function(Plotly) {\n",
              "            window._Plotly = Plotly;\n",
              "        });\n",
              "        }\n",
              "        </script>\n",
              "        "
            ]
          },
          "metadata": {}
        }
      ]
    },
    {
      "cell_type": "code",
      "source": [
        "RND_STATE = 73"
      ],
      "metadata": {
        "id": "_H_EVyaU66yx"
      },
      "execution_count": 5,
      "outputs": []
    },
    {
      "cell_type": "code",
      "source": [
        "df = pd.read_csv('df_preprocessed.csv')"
      ],
      "metadata": {
        "id": "pWqlsJsi6-NN"
      },
      "execution_count": 6,
      "outputs": []
    },
    {
      "cell_type": "code",
      "source": [
        "df.head(3)"
      ],
      "metadata": {
        "colab": {
          "base_uri": "https://localhost:8080/",
          "height": 372
        },
        "id": "7u70iSNe7DaN",
        "outputId": "e34a6928-c1d7-4def-8161-f5378ac36040"
      },
      "execution_count": 7,
      "outputs": [
        {
          "output_type": "execute_result",
          "data": {
            "text/plain": [
              "   Unnamed: 0                                          url  \\\n",
              "0           0  https://lenta.ru/news/2020/01/01/trudovaya/   \n",
              "1           2        https://lenta.ru/news/2020/01/01/org/   \n",
              "2           3      https://lenta.ru/news/2020/01/01/sleep/   \n",
              "\n",
              "                                           title            topic  \\\n",
              "0     В России ввели электронные трудовые книжки           Россия   \n",
              "1  В России утвердили стандарты органической еды        Экономика   \n",
              "2          Объяснена опасность неправильного сна  Наука и техника   \n",
              "\n",
              "              datetime                                            content  \\\n",
              "0  2020-01-01 00:01:00  Фото:  Юрий Мартьянов /« Коммерсантъ» В России...   \n",
              "1  2020-01-01 00:30:49  Фото: Rupert Oberhäuser / Globallookpress.com ...   \n",
              "2  2020-01-01 00:53:00  Фото: Vladislav Muslakov / Unsplash Спящие бол...   \n",
              "\n",
              "                                            subtitle  \n",
              "0  Фото:  Юрий Мартьянов /« Коммерсантъ» В ... кн...  \n",
              "1  Фото: Rupert Oberhäuser / ... для производител...  \n",
              "2  Фото: Vladislav Muslakov / Unsplash ..., чем т...  "
            ],
            "text/html": [
              "\n",
              "  <div id=\"df-725b988a-a859-4fd8-abde-8961970eafb1\" class=\"colab-df-container\">\n",
              "    <div>\n",
              "<style scoped>\n",
              "    .dataframe tbody tr th:only-of-type {\n",
              "        vertical-align: middle;\n",
              "    }\n",
              "\n",
              "    .dataframe tbody tr th {\n",
              "        vertical-align: top;\n",
              "    }\n",
              "\n",
              "    .dataframe thead th {\n",
              "        text-align: right;\n",
              "    }\n",
              "</style>\n",
              "<table border=\"1\" class=\"dataframe\">\n",
              "  <thead>\n",
              "    <tr style=\"text-align: right;\">\n",
              "      <th></th>\n",
              "      <th>Unnamed: 0</th>\n",
              "      <th>url</th>\n",
              "      <th>title</th>\n",
              "      <th>topic</th>\n",
              "      <th>datetime</th>\n",
              "      <th>content</th>\n",
              "      <th>subtitle</th>\n",
              "    </tr>\n",
              "  </thead>\n",
              "  <tbody>\n",
              "    <tr>\n",
              "      <th>0</th>\n",
              "      <td>0</td>\n",
              "      <td>https://lenta.ru/news/2020/01/01/trudovaya/</td>\n",
              "      <td>В России ввели электронные трудовые книжки</td>\n",
              "      <td>Россия</td>\n",
              "      <td>2020-01-01 00:01:00</td>\n",
              "      <td>Фото:  Юрий Мартьянов /« Коммерсантъ» В России...</td>\n",
              "      <td>Фото:  Юрий Мартьянов /« Коммерсантъ» В ... кн...</td>\n",
              "    </tr>\n",
              "    <tr>\n",
              "      <th>1</th>\n",
              "      <td>2</td>\n",
              "      <td>https://lenta.ru/news/2020/01/01/org/</td>\n",
              "      <td>В России утвердили стандарты органической еды</td>\n",
              "      <td>Экономика</td>\n",
              "      <td>2020-01-01 00:30:49</td>\n",
              "      <td>Фото: Rupert Oberhäuser / Globallookpress.com ...</td>\n",
              "      <td>Фото: Rupert Oberhäuser / ... для производител...</td>\n",
              "    </tr>\n",
              "    <tr>\n",
              "      <th>2</th>\n",
              "      <td>3</td>\n",
              "      <td>https://lenta.ru/news/2020/01/01/sleep/</td>\n",
              "      <td>Объяснена опасность неправильного сна</td>\n",
              "      <td>Наука и техника</td>\n",
              "      <td>2020-01-01 00:53:00</td>\n",
              "      <td>Фото: Vladislav Muslakov / Unsplash Спящие бол...</td>\n",
              "      <td>Фото: Vladislav Muslakov / Unsplash ..., чем т...</td>\n",
              "    </tr>\n",
              "  </tbody>\n",
              "</table>\n",
              "</div>\n",
              "    <div class=\"colab-df-buttons\">\n",
              "\n",
              "  <div class=\"colab-df-container\">\n",
              "    <button class=\"colab-df-convert\" onclick=\"convertToInteractive('df-725b988a-a859-4fd8-abde-8961970eafb1')\"\n",
              "            title=\"Convert this dataframe to an interactive table.\"\n",
              "            style=\"display:none;\">\n",
              "\n",
              "  <svg xmlns=\"http://www.w3.org/2000/svg\" height=\"24px\" viewBox=\"0 -960 960 960\">\n",
              "    <path d=\"M120-120v-720h720v720H120Zm60-500h600v-160H180v160Zm220 220h160v-160H400v160Zm0 220h160v-160H400v160ZM180-400h160v-160H180v160Zm440 0h160v-160H620v160ZM180-180h160v-160H180v160Zm440 0h160v-160H620v160Z\"/>\n",
              "  </svg>\n",
              "    </button>\n",
              "\n",
              "  <style>\n",
              "    .colab-df-container {\n",
              "      display:flex;\n",
              "      gap: 12px;\n",
              "    }\n",
              "\n",
              "    .colab-df-convert {\n",
              "      background-color: #E8F0FE;\n",
              "      border: none;\n",
              "      border-radius: 50%;\n",
              "      cursor: pointer;\n",
              "      display: none;\n",
              "      fill: #1967D2;\n",
              "      height: 32px;\n",
              "      padding: 0 0 0 0;\n",
              "      width: 32px;\n",
              "    }\n",
              "\n",
              "    .colab-df-convert:hover {\n",
              "      background-color: #E2EBFA;\n",
              "      box-shadow: 0px 1px 2px rgba(60, 64, 67, 0.3), 0px 1px 3px 1px rgba(60, 64, 67, 0.15);\n",
              "      fill: #174EA6;\n",
              "    }\n",
              "\n",
              "    .colab-df-buttons div {\n",
              "      margin-bottom: 4px;\n",
              "    }\n",
              "\n",
              "    [theme=dark] .colab-df-convert {\n",
              "      background-color: #3B4455;\n",
              "      fill: #D2E3FC;\n",
              "    }\n",
              "\n",
              "    [theme=dark] .colab-df-convert:hover {\n",
              "      background-color: #434B5C;\n",
              "      box-shadow: 0px 1px 3px 1px rgba(0, 0, 0, 0.15);\n",
              "      filter: drop-shadow(0px 1px 2px rgba(0, 0, 0, 0.3));\n",
              "      fill: #FFFFFF;\n",
              "    }\n",
              "  </style>\n",
              "\n",
              "    <script>\n",
              "      const buttonEl =\n",
              "        document.querySelector('#df-725b988a-a859-4fd8-abde-8961970eafb1 button.colab-df-convert');\n",
              "      buttonEl.style.display =\n",
              "        google.colab.kernel.accessAllowed ? 'block' : 'none';\n",
              "\n",
              "      async function convertToInteractive(key) {\n",
              "        const element = document.querySelector('#df-725b988a-a859-4fd8-abde-8961970eafb1');\n",
              "        const dataTable =\n",
              "          await google.colab.kernel.invokeFunction('convertToInteractive',\n",
              "                                                    [key], {});\n",
              "        if (!dataTable) return;\n",
              "\n",
              "        const docLinkHtml = 'Like what you see? Visit the ' +\n",
              "          '<a target=\"_blank\" href=https://colab.research.google.com/notebooks/data_table.ipynb>data table notebook</a>'\n",
              "          + ' to learn more about interactive tables.';\n",
              "        element.innerHTML = '';\n",
              "        dataTable['output_type'] = 'display_data';\n",
              "        await google.colab.output.renderOutput(dataTable, element);\n",
              "        const docLink = document.createElement('div');\n",
              "        docLink.innerHTML = docLinkHtml;\n",
              "        element.appendChild(docLink);\n",
              "      }\n",
              "    </script>\n",
              "  </div>\n",
              "\n",
              "\n",
              "<div id=\"df-3bfabbb6-094a-483d-9a00-385f9e4199f2\">\n",
              "  <button class=\"colab-df-quickchart\" onclick=\"quickchart('df-3bfabbb6-094a-483d-9a00-385f9e4199f2')\"\n",
              "            title=\"Suggest charts.\"\n",
              "            style=\"display:none;\">\n",
              "\n",
              "<svg xmlns=\"http://www.w3.org/2000/svg\" height=\"24px\"viewBox=\"0 0 24 24\"\n",
              "     width=\"24px\">\n",
              "    <g>\n",
              "        <path d=\"M19 3H5c-1.1 0-2 .9-2 2v14c0 1.1.9 2 2 2h14c1.1 0 2-.9 2-2V5c0-1.1-.9-2-2-2zM9 17H7v-7h2v7zm4 0h-2V7h2v10zm4 0h-2v-4h2v4z\"/>\n",
              "    </g>\n",
              "</svg>\n",
              "  </button>\n",
              "\n",
              "<style>\n",
              "  .colab-df-quickchart {\n",
              "      --bg-color: #E8F0FE;\n",
              "      --fill-color: #1967D2;\n",
              "      --hover-bg-color: #E2EBFA;\n",
              "      --hover-fill-color: #174EA6;\n",
              "      --disabled-fill-color: #AAA;\n",
              "      --disabled-bg-color: #DDD;\n",
              "  }\n",
              "\n",
              "  [theme=dark] .colab-df-quickchart {\n",
              "      --bg-color: #3B4455;\n",
              "      --fill-color: #D2E3FC;\n",
              "      --hover-bg-color: #434B5C;\n",
              "      --hover-fill-color: #FFFFFF;\n",
              "      --disabled-bg-color: #3B4455;\n",
              "      --disabled-fill-color: #666;\n",
              "  }\n",
              "\n",
              "  .colab-df-quickchart {\n",
              "    background-color: var(--bg-color);\n",
              "    border: none;\n",
              "    border-radius: 50%;\n",
              "    cursor: pointer;\n",
              "    display: none;\n",
              "    fill: var(--fill-color);\n",
              "    height: 32px;\n",
              "    padding: 0;\n",
              "    width: 32px;\n",
              "  }\n",
              "\n",
              "  .colab-df-quickchart:hover {\n",
              "    background-color: var(--hover-bg-color);\n",
              "    box-shadow: 0 1px 2px rgba(60, 64, 67, 0.3), 0 1px 3px 1px rgba(60, 64, 67, 0.15);\n",
              "    fill: var(--button-hover-fill-color);\n",
              "  }\n",
              "\n",
              "  .colab-df-quickchart-complete:disabled,\n",
              "  .colab-df-quickchart-complete:disabled:hover {\n",
              "    background-color: var(--disabled-bg-color);\n",
              "    fill: var(--disabled-fill-color);\n",
              "    box-shadow: none;\n",
              "  }\n",
              "\n",
              "  .colab-df-spinner {\n",
              "    border: 2px solid var(--fill-color);\n",
              "    border-color: transparent;\n",
              "    border-bottom-color: var(--fill-color);\n",
              "    animation:\n",
              "      spin 1s steps(1) infinite;\n",
              "  }\n",
              "\n",
              "  @keyframes spin {\n",
              "    0% {\n",
              "      border-color: transparent;\n",
              "      border-bottom-color: var(--fill-color);\n",
              "      border-left-color: var(--fill-color);\n",
              "    }\n",
              "    20% {\n",
              "      border-color: transparent;\n",
              "      border-left-color: var(--fill-color);\n",
              "      border-top-color: var(--fill-color);\n",
              "    }\n",
              "    30% {\n",
              "      border-color: transparent;\n",
              "      border-left-color: var(--fill-color);\n",
              "      border-top-color: var(--fill-color);\n",
              "      border-right-color: var(--fill-color);\n",
              "    }\n",
              "    40% {\n",
              "      border-color: transparent;\n",
              "      border-right-color: var(--fill-color);\n",
              "      border-top-color: var(--fill-color);\n",
              "    }\n",
              "    60% {\n",
              "      border-color: transparent;\n",
              "      border-right-color: var(--fill-color);\n",
              "    }\n",
              "    80% {\n",
              "      border-color: transparent;\n",
              "      border-right-color: var(--fill-color);\n",
              "      border-bottom-color: var(--fill-color);\n",
              "    }\n",
              "    90% {\n",
              "      border-color: transparent;\n",
              "      border-bottom-color: var(--fill-color);\n",
              "    }\n",
              "  }\n",
              "</style>\n",
              "\n",
              "  <script>\n",
              "    async function quickchart(key) {\n",
              "      const quickchartButtonEl =\n",
              "        document.querySelector('#' + key + ' button');\n",
              "      quickchartButtonEl.disabled = true;  // To prevent multiple clicks.\n",
              "      quickchartButtonEl.classList.add('colab-df-spinner');\n",
              "      try {\n",
              "        const charts = await google.colab.kernel.invokeFunction(\n",
              "            'suggestCharts', [key], {});\n",
              "      } catch (error) {\n",
              "        console.error('Error during call to suggestCharts:', error);\n",
              "      }\n",
              "      quickchartButtonEl.classList.remove('colab-df-spinner');\n",
              "      quickchartButtonEl.classList.add('colab-df-quickchart-complete');\n",
              "    }\n",
              "    (() => {\n",
              "      let quickchartButtonEl =\n",
              "        document.querySelector('#df-3bfabbb6-094a-483d-9a00-385f9e4199f2 button');\n",
              "      quickchartButtonEl.style.display =\n",
              "        google.colab.kernel.accessAllowed ? 'block' : 'none';\n",
              "    })();\n",
              "  </script>\n",
              "</div>\n",
              "    </div>\n",
              "  </div>\n"
            ]
          },
          "metadata": {},
          "execution_count": 7
        }
      ]
    },
    {
      "cell_type": "code",
      "source": [
        "# Удалим ненужный столбец\n",
        "df.drop(\n",
        "    columns=[\"Unnamed: 0\"],\n",
        "    inplace=True,\n",
        ")"
      ],
      "metadata": {
        "id": "4pwUAK5k7GgZ"
      },
      "execution_count": 8,
      "outputs": []
    },
    {
      "cell_type": "markdown",
      "source": [
        "## Предобработка текста"
      ],
      "metadata": {
        "id": "8zH7W6o_7LS7"
      }
    },
    {
      "cell_type": "markdown",
      "source": [
        "Чтобы получить более точное и компактное представление текстов, обычно делают нормализацию текста, которая включает в себя следующие этапы:\n",
        "\n",
        "- lowering\n",
        "\n",
        "- tokenize\n",
        "\n",
        "- lemmatize\n",
        "\n",
        "- remove symbols\n",
        "\n",
        "- remove stop-words\n",
        "\n",
        "Для нас совершенно не важен регистр текста, его род и падеж, а также различные символы, которые и вовсе текстом не являются.\n",
        "\n",
        "Таким образом, мы ожидаем, что после предобработки текста качество модели должно возрасти.\n",
        "\n",
        "Существуют разные библиотеки для обработки текста, мы будем использовать Наташу, потому что она включяет в себя все необходимые нам элементы предобработки (токенизация и лемматизация)\n"
      ],
      "metadata": {
        "id": "eQN11NJc7PIG"
      }
    },
    {
      "cell_type": "code",
      "source": [
        "# Стоп-слова\n",
        "stop_words = stopwords.words(\"russian\")\n",
        "stop_words.extend(\n",
        "    [\n",
        "        \"что\",\n",
        "        \"это\",\n",
        "        \"так\",\n",
        "        \"вот\",\n",
        "        \"быть\",\n",
        "        \"как\",\n",
        "        \"в\",\n",
        "        \"—\",\n",
        "        \"к\",\n",
        "        \"за\",\n",
        "        \"из\",\n",
        "        \"из-за\",\n",
        "        \"на\",\n",
        "        \"ок\",\n",
        "        \"кстати\",\n",
        "        \"который\",\n",
        "        \"мочь\",\n",
        "        \"весь\",\n",
        "        \"еще\",\n",
        "        \"также\",\n",
        "        \"свой\",\n",
        "        \"ещё\",\n",
        "        \"самый\",\n",
        "        \"ул\",\n",
        "        \"комментарий\",\n",
        "        \"английский\",\n",
        "        \"язык\",\n",
        "    ]\n",
        ")"
      ],
      "metadata": {
        "id": "ViYDDcqI7I6c"
      },
      "execution_count": 11,
      "outputs": []
    },
    {
      "cell_type": "code",
      "source": [
        "segmenter = Segmenter()\n",
        "morph_vocab = MorphVocab()\n",
        "emb = NewsEmbedding()\n",
        "morph_tagger = NewsMorphTagger(emb)"
      ],
      "metadata": {
        "id": "U2qxrZnD7egH"
      },
      "execution_count": 12,
      "outputs": []
    },
    {
      "cell_type": "markdown",
      "source": [
        "Напишем функцию, которая будет осуществлять всю указанную выше предобработку текста."
      ],
      "metadata": {
        "id": "eetD9f8o8LCn"
      }
    },
    {
      "cell_type": "code",
      "source": [
        "def text_prep(text) -> str:\n",
        "    # Преобразуем текст в объект класса документ\n",
        "    doc = Doc(text)\n",
        "    # Сегментация\n",
        "    doc.segment(segmenter)\n",
        "    doc.tag_morph(morph_tagger)\n",
        "\n",
        "    # Токенизация\n",
        "    for token in doc.tokens:\n",
        "        token.lemmatize(morph_vocab)\n",
        "\n",
        "    # Лемматизация\n",
        "    lemmas = [_.lemma for _ in doc.tokens]\n",
        "    words = [lemma for lemma in lemmas if lemma.isalpha() and len(lemma) > 2]\n",
        "    filtered_words = [word for word in words if word not in stop_words]\n",
        "    return \" \".join(filtered_words)"
      ],
      "metadata": {
        "id": "49Rb5eHl8FNb"
      },
      "execution_count": 13,
      "outputs": []
    },
    {
      "cell_type": "code",
      "source": [
        "%%time\n",
        "df[\"title_clean\"] = df['title'].apply(text_prep)\n",
        "df[\"subtitle_clean\"] = df['subtitle'].apply(text_prep)\n",
        "df[\"content _clean\"] = df['content'].apply(text_prep)"
      ],
      "metadata": {
        "colab": {
          "base_uri": "https://localhost:8080/"
        },
        "id": "-RWfpfLN8cJV",
        "outputId": "6d0f7e15-cfe8-45ff-919a-00772273fec0"
      },
      "execution_count": 14,
      "outputs": [
        {
          "output_type": "stream",
          "name": "stdout",
          "text": [
            "CPU times: user 20min 37s, sys: 10min 55s, total: 31min 33s\n",
            "Wall time: 18min 25s\n"
          ]
        }
      ]
    },
    {
      "cell_type": "code",
      "source": [
        "# Сохранение датасета с обработанным текстом\n",
        "df.to_pickle(\"df_topics_clean.p\", compression=\"gzip\")"
      ],
      "metadata": {
        "id": "6NT_z4oQ8yDx"
      },
      "execution_count": 15,
      "outputs": []
    },
    {
      "cell_type": "code",
      "source": [
        "df = pd.read_pickle(\"/content/df_topics_clean.p\", compression=\"gzip\")"
      ],
      "metadata": {
        "id": "sjhqQKTkERzh"
      },
      "execution_count": 17,
      "outputs": []
    },
    {
      "cell_type": "code",
      "source": [
        "df.head(3)"
      ],
      "metadata": {
        "colab": {
          "base_uri": "https://localhost:8080/",
          "height": 354
        },
        "id": "Fz20MLU_FYko",
        "outputId": "e049c11a-23d3-46ef-8d88-929c6cfc92be"
      },
      "execution_count": 22,
      "outputs": [
        {
          "output_type": "execute_result",
          "data": {
            "text/plain": [
              "                                           url  \\\n",
              "0  https://lenta.ru/news/2020/01/01/trudovaya/   \n",
              "1        https://lenta.ru/news/2020/01/01/org/   \n",
              "2      https://lenta.ru/news/2020/01/01/sleep/   \n",
              "\n",
              "                                           title            topic  \\\n",
              "0     В России ввели электронные трудовые книжки           Россия   \n",
              "1  В России утвердили стандарты органической еды        Экономика   \n",
              "2          Объяснена опасность неправильного сна  Наука и техника   \n",
              "\n",
              "              datetime                                            content  \\\n",
              "0  2020-01-01 00:01:00  Фото:  Юрий Мартьянов /« Коммерсантъ» В России...   \n",
              "1  2020-01-01 00:30:49  Фото: Rupert Oberhäuser / Globallookpress.com ...   \n",
              "2  2020-01-01 00:53:00  Фото: Vladislav Muslakov / Unsplash Спящие бол...   \n",
              "\n",
              "                                            subtitle  \\\n",
              "0  Фото:  Юрий Мартьянов /« Коммерсантъ» В ... кн...   \n",
              "1  Фото: Rupert Oberhäuser / ... для производител...   \n",
              "2  Фото: Vladislav Muslakov / Unsplash ..., чем т...   \n",
              "\n",
              "                                  title_clean  \\\n",
              "0   россия ввести электронный трудовой книжка   \n",
              "1  россия утвердить стандарт органический еда   \n",
              "2        объяснить опасность неправильный сон   \n",
              "\n",
              "                                      subtitle_clean  \\\n",
              "0  фото юрий мартьян коммерсантъ книжка вместо бу...   \n",
              "1  фото rupert oberhäuser производитель продавец ...   \n",
              "2  фото vladislav muslakov unsplash спать примерн...   \n",
              "\n",
              "                                     content\\t_clean  \n",
              "0  фото юрий мартьян коммерсантъ россия работник ...  \n",
              "1  фото rupert oberhäuser globallookpress com рос...  \n",
              "2  фото vladislav muslakov unsplash спать менее ч...  "
            ],
            "text/html": [
              "\n",
              "  <div id=\"df-d8c5aff9-fdf2-4aeb-b468-19737d68b33a\" class=\"colab-df-container\">\n",
              "    <div>\n",
              "<style scoped>\n",
              "    .dataframe tbody tr th:only-of-type {\n",
              "        vertical-align: middle;\n",
              "    }\n",
              "\n",
              "    .dataframe tbody tr th {\n",
              "        vertical-align: top;\n",
              "    }\n",
              "\n",
              "    .dataframe thead th {\n",
              "        text-align: right;\n",
              "    }\n",
              "</style>\n",
              "<table border=\"1\" class=\"dataframe\">\n",
              "  <thead>\n",
              "    <tr style=\"text-align: right;\">\n",
              "      <th></th>\n",
              "      <th>url</th>\n",
              "      <th>title</th>\n",
              "      <th>topic</th>\n",
              "      <th>datetime</th>\n",
              "      <th>content</th>\n",
              "      <th>subtitle</th>\n",
              "      <th>title_clean</th>\n",
              "      <th>subtitle_clean</th>\n",
              "      <th>content\\t_clean</th>\n",
              "    </tr>\n",
              "  </thead>\n",
              "  <tbody>\n",
              "    <tr>\n",
              "      <th>0</th>\n",
              "      <td>https://lenta.ru/news/2020/01/01/trudovaya/</td>\n",
              "      <td>В России ввели электронные трудовые книжки</td>\n",
              "      <td>Россия</td>\n",
              "      <td>2020-01-01 00:01:00</td>\n",
              "      <td>Фото:  Юрий Мартьянов /« Коммерсантъ» В России...</td>\n",
              "      <td>Фото:  Юрий Мартьянов /« Коммерсантъ» В ... кн...</td>\n",
              "      <td>россия ввести электронный трудовой книжка</td>\n",
              "      <td>фото юрий мартьян коммерсантъ книжка вместо бу...</td>\n",
              "      <td>фото юрий мартьян коммерсантъ россия работник ...</td>\n",
              "    </tr>\n",
              "    <tr>\n",
              "      <th>1</th>\n",
              "      <td>https://lenta.ru/news/2020/01/01/org/</td>\n",
              "      <td>В России утвердили стандарты органической еды</td>\n",
              "      <td>Экономика</td>\n",
              "      <td>2020-01-01 00:30:49</td>\n",
              "      <td>Фото: Rupert Oberhäuser / Globallookpress.com ...</td>\n",
              "      <td>Фото: Rupert Oberhäuser / ... для производител...</td>\n",
              "      <td>россия утвердить стандарт органический еда</td>\n",
              "      <td>фото rupert oberhäuser производитель продавец ...</td>\n",
              "      <td>фото rupert oberhäuser globallookpress com рос...</td>\n",
              "    </tr>\n",
              "    <tr>\n",
              "      <th>2</th>\n",
              "      <td>https://lenta.ru/news/2020/01/01/sleep/</td>\n",
              "      <td>Объяснена опасность неправильного сна</td>\n",
              "      <td>Наука и техника</td>\n",
              "      <td>2020-01-01 00:53:00</td>\n",
              "      <td>Фото: Vladislav Muslakov / Unsplash Спящие бол...</td>\n",
              "      <td>Фото: Vladislav Muslakov / Unsplash ..., чем т...</td>\n",
              "      <td>объяснить опасность неправильный сон</td>\n",
              "      <td>фото vladislav muslakov unsplash спать примерн...</td>\n",
              "      <td>фото vladislav muslakov unsplash спать менее ч...</td>\n",
              "    </tr>\n",
              "  </tbody>\n",
              "</table>\n",
              "</div>\n",
              "    <div class=\"colab-df-buttons\">\n",
              "\n",
              "  <div class=\"colab-df-container\">\n",
              "    <button class=\"colab-df-convert\" onclick=\"convertToInteractive('df-d8c5aff9-fdf2-4aeb-b468-19737d68b33a')\"\n",
              "            title=\"Convert this dataframe to an interactive table.\"\n",
              "            style=\"display:none;\">\n",
              "\n",
              "  <svg xmlns=\"http://www.w3.org/2000/svg\" height=\"24px\" viewBox=\"0 -960 960 960\">\n",
              "    <path d=\"M120-120v-720h720v720H120Zm60-500h600v-160H180v160Zm220 220h160v-160H400v160Zm0 220h160v-160H400v160ZM180-400h160v-160H180v160Zm440 0h160v-160H620v160ZM180-180h160v-160H180v160Zm440 0h160v-160H620v160Z\"/>\n",
              "  </svg>\n",
              "    </button>\n",
              "\n",
              "  <style>\n",
              "    .colab-df-container {\n",
              "      display:flex;\n",
              "      gap: 12px;\n",
              "    }\n",
              "\n",
              "    .colab-df-convert {\n",
              "      background-color: #E8F0FE;\n",
              "      border: none;\n",
              "      border-radius: 50%;\n",
              "      cursor: pointer;\n",
              "      display: none;\n",
              "      fill: #1967D2;\n",
              "      height: 32px;\n",
              "      padding: 0 0 0 0;\n",
              "      width: 32px;\n",
              "    }\n",
              "\n",
              "    .colab-df-convert:hover {\n",
              "      background-color: #E2EBFA;\n",
              "      box-shadow: 0px 1px 2px rgba(60, 64, 67, 0.3), 0px 1px 3px 1px rgba(60, 64, 67, 0.15);\n",
              "      fill: #174EA6;\n",
              "    }\n",
              "\n",
              "    .colab-df-buttons div {\n",
              "      margin-bottom: 4px;\n",
              "    }\n",
              "\n",
              "    [theme=dark] .colab-df-convert {\n",
              "      background-color: #3B4455;\n",
              "      fill: #D2E3FC;\n",
              "    }\n",
              "\n",
              "    [theme=dark] .colab-df-convert:hover {\n",
              "      background-color: #434B5C;\n",
              "      box-shadow: 0px 1px 3px 1px rgba(0, 0, 0, 0.15);\n",
              "      filter: drop-shadow(0px 1px 2px rgba(0, 0, 0, 0.3));\n",
              "      fill: #FFFFFF;\n",
              "    }\n",
              "  </style>\n",
              "\n",
              "    <script>\n",
              "      const buttonEl =\n",
              "        document.querySelector('#df-d8c5aff9-fdf2-4aeb-b468-19737d68b33a button.colab-df-convert');\n",
              "      buttonEl.style.display =\n",
              "        google.colab.kernel.accessAllowed ? 'block' : 'none';\n",
              "\n",
              "      async function convertToInteractive(key) {\n",
              "        const element = document.querySelector('#df-d8c5aff9-fdf2-4aeb-b468-19737d68b33a');\n",
              "        const dataTable =\n",
              "          await google.colab.kernel.invokeFunction('convertToInteractive',\n",
              "                                                    [key], {});\n",
              "        if (!dataTable) return;\n",
              "\n",
              "        const docLinkHtml = 'Like what you see? Visit the ' +\n",
              "          '<a target=\"_blank\" href=https://colab.research.google.com/notebooks/data_table.ipynb>data table notebook</a>'\n",
              "          + ' to learn more about interactive tables.';\n",
              "        element.innerHTML = '';\n",
              "        dataTable['output_type'] = 'display_data';\n",
              "        await google.colab.output.renderOutput(dataTable, element);\n",
              "        const docLink = document.createElement('div');\n",
              "        docLink.innerHTML = docLinkHtml;\n",
              "        element.appendChild(docLink);\n",
              "      }\n",
              "    </script>\n",
              "  </div>\n",
              "\n",
              "\n",
              "<div id=\"df-d70e6d37-b0b5-44ad-8b3b-23bf2a0746bf\">\n",
              "  <button class=\"colab-df-quickchart\" onclick=\"quickchart('df-d70e6d37-b0b5-44ad-8b3b-23bf2a0746bf')\"\n",
              "            title=\"Suggest charts.\"\n",
              "            style=\"display:none;\">\n",
              "\n",
              "<svg xmlns=\"http://www.w3.org/2000/svg\" height=\"24px\"viewBox=\"0 0 24 24\"\n",
              "     width=\"24px\">\n",
              "    <g>\n",
              "        <path d=\"M19 3H5c-1.1 0-2 .9-2 2v14c0 1.1.9 2 2 2h14c1.1 0 2-.9 2-2V5c0-1.1-.9-2-2-2zM9 17H7v-7h2v7zm4 0h-2V7h2v10zm4 0h-2v-4h2v4z\"/>\n",
              "    </g>\n",
              "</svg>\n",
              "  </button>\n",
              "\n",
              "<style>\n",
              "  .colab-df-quickchart {\n",
              "      --bg-color: #E8F0FE;\n",
              "      --fill-color: #1967D2;\n",
              "      --hover-bg-color: #E2EBFA;\n",
              "      --hover-fill-color: #174EA6;\n",
              "      --disabled-fill-color: #AAA;\n",
              "      --disabled-bg-color: #DDD;\n",
              "  }\n",
              "\n",
              "  [theme=dark] .colab-df-quickchart {\n",
              "      --bg-color: #3B4455;\n",
              "      --fill-color: #D2E3FC;\n",
              "      --hover-bg-color: #434B5C;\n",
              "      --hover-fill-color: #FFFFFF;\n",
              "      --disabled-bg-color: #3B4455;\n",
              "      --disabled-fill-color: #666;\n",
              "  }\n",
              "\n",
              "  .colab-df-quickchart {\n",
              "    background-color: var(--bg-color);\n",
              "    border: none;\n",
              "    border-radius: 50%;\n",
              "    cursor: pointer;\n",
              "    display: none;\n",
              "    fill: var(--fill-color);\n",
              "    height: 32px;\n",
              "    padding: 0;\n",
              "    width: 32px;\n",
              "  }\n",
              "\n",
              "  .colab-df-quickchart:hover {\n",
              "    background-color: var(--hover-bg-color);\n",
              "    box-shadow: 0 1px 2px rgba(60, 64, 67, 0.3), 0 1px 3px 1px rgba(60, 64, 67, 0.15);\n",
              "    fill: var(--button-hover-fill-color);\n",
              "  }\n",
              "\n",
              "  .colab-df-quickchart-complete:disabled,\n",
              "  .colab-df-quickchart-complete:disabled:hover {\n",
              "    background-color: var(--disabled-bg-color);\n",
              "    fill: var(--disabled-fill-color);\n",
              "    box-shadow: none;\n",
              "  }\n",
              "\n",
              "  .colab-df-spinner {\n",
              "    border: 2px solid var(--fill-color);\n",
              "    border-color: transparent;\n",
              "    border-bottom-color: var(--fill-color);\n",
              "    animation:\n",
              "      spin 1s steps(1) infinite;\n",
              "  }\n",
              "\n",
              "  @keyframes spin {\n",
              "    0% {\n",
              "      border-color: transparent;\n",
              "      border-bottom-color: var(--fill-color);\n",
              "      border-left-color: var(--fill-color);\n",
              "    }\n",
              "    20% {\n",
              "      border-color: transparent;\n",
              "      border-left-color: var(--fill-color);\n",
              "      border-top-color: var(--fill-color);\n",
              "    }\n",
              "    30% {\n",
              "      border-color: transparent;\n",
              "      border-left-color: var(--fill-color);\n",
              "      border-top-color: var(--fill-color);\n",
              "      border-right-color: var(--fill-color);\n",
              "    }\n",
              "    40% {\n",
              "      border-color: transparent;\n",
              "      border-right-color: var(--fill-color);\n",
              "      border-top-color: var(--fill-color);\n",
              "    }\n",
              "    60% {\n",
              "      border-color: transparent;\n",
              "      border-right-color: var(--fill-color);\n",
              "    }\n",
              "    80% {\n",
              "      border-color: transparent;\n",
              "      border-right-color: var(--fill-color);\n",
              "      border-bottom-color: var(--fill-color);\n",
              "    }\n",
              "    90% {\n",
              "      border-color: transparent;\n",
              "      border-bottom-color: var(--fill-color);\n",
              "    }\n",
              "  }\n",
              "</style>\n",
              "\n",
              "  <script>\n",
              "    async function quickchart(key) {\n",
              "      const quickchartButtonEl =\n",
              "        document.querySelector('#' + key + ' button');\n",
              "      quickchartButtonEl.disabled = true;  // To prevent multiple clicks.\n",
              "      quickchartButtonEl.classList.add('colab-df-spinner');\n",
              "      try {\n",
              "        const charts = await google.colab.kernel.invokeFunction(\n",
              "            'suggestCharts', [key], {});\n",
              "      } catch (error) {\n",
              "        console.error('Error during call to suggestCharts:', error);\n",
              "      }\n",
              "      quickchartButtonEl.classList.remove('colab-df-spinner');\n",
              "      quickchartButtonEl.classList.add('colab-df-quickchart-complete');\n",
              "    }\n",
              "    (() => {\n",
              "      let quickchartButtonEl =\n",
              "        document.querySelector('#df-d70e6d37-b0b5-44ad-8b3b-23bf2a0746bf button');\n",
              "      quickchartButtonEl.style.display =\n",
              "        google.colab.kernel.accessAllowed ? 'block' : 'none';\n",
              "    })();\n",
              "  </script>\n",
              "</div>\n",
              "    </div>\n",
              "  </div>\n"
            ]
          },
          "metadata": {},
          "execution_count": 22
        }
      ]
    },
    {
      "cell_type": "markdown",
      "source": [
        "Посмотрим, насколько разумно работает наша предобработка, оценив качество преобразования текстовых данных."
      ],
      "metadata": {
        "id": "vaQ3SI7HEqf2"
      }
    },
    {
      "cell_type": "code",
      "source": [
        "# Заголовок\n",
        "df.sample(1)[['title', 'title_clean']].values"
      ],
      "metadata": {
        "colab": {
          "base_uri": "https://localhost:8080/"
        },
        "id": "LWxGW6tTEfxa",
        "outputId": "198507a9-bf4e-4f7a-ffee-311ad9039a8e"
      },
      "execution_count": 18,
      "outputs": [
        {
          "output_type": "execute_result",
          "data": {
            "text/plain": [
              "array([['Помочившегося на портрет ветерана блогера посадили на четыре года',\n",
              "        'помочиться портрет ветеран блогер посадить четыре год']],\n",
              "      dtype=object)"
            ]
          },
          "metadata": {},
          "execution_count": 18
        }
      ]
    },
    {
      "cell_type": "code",
      "source": [
        "# Подзаголовок\n",
        "df.sample(1)[['subtitle', 'subtitle_clean']].values"
      ],
      "metadata": {
        "colab": {
          "base_uri": "https://localhost:8080/"
        },
        "id": "VuMLc8UcEv4I",
        "outputId": "4eb97523-403f-410b-ee0f-90687f2d6d0f"
      },
      "execution_count": 19,
      "outputs": [
        {
          "output_type": "execute_result",
          "data": {
            "text/plain": [
              "array([['Александр Куренков Фото: Пресс-служба ... стал генерал-майор Александр Куренков. Об этом сообщается на сайте Кремля. На данном посту Александр Куренков ... года во время учений в Норильске.',\n",
              "        'александр куренков фото стать александр куренков сообщаться сайт кремль данный пост александр куренков год время учение норильск']],\n",
              "      dtype=object)"
            ]
          },
          "metadata": {},
          "execution_count": 19
        }
      ]
    },
    {
      "cell_type": "code",
      "source": [
        "# Содержание\n",
        "df.sample(1)[['content', 'content\\t_clean']].values"
      ],
      "metadata": {
        "colab": {
          "base_uri": "https://localhost:8080/"
        },
        "id": "m8JzFgvkE3kA",
        "outputId": "abab16fc-1480-4fec-e698-2101100b2e3f"
      },
      "execution_count": 23,
      "outputs": [
        {
          "output_type": "execute_result",
          "data": {
            "text/plain": [
              "array([['Фото: Philip Davali / Ritzau Scanpix / Reuters Дмитрий Настасьев Россия и Украина имеют высокие шансы урегулировать нынешнее обострение между странами миром. С таким заявлением выступил глава МИД Украины Дмитрий Кулеба на очередном брифинге украинского внешнеполитического ведомства, передает «РБК-Украина». «Если Россия прибегнет к вооруженной эскалации, то мы будем защищаться и бороться. Но сейчас есть все шансы на то, что дипломатия сможет достичь успеха», — рассказал Кулеба. Конфликт между Москвой и Киевом можно решить миром, уверен он. На фоне слухов о якобы намечающемся в феврале 2022 года российском вторжении украинцы начали массово скупать из магазинов продукты, в том числе гречку и сахар. Многие граждане республики действительно верят в скорую военную агрессию со стороны России и провоцируют подобное поведение. Успокаивать украинцев пришлось президенту страны Владимиру Зеленскому, который призвал людей не поддаваться панике. Сообщения о «планах России» по вторжению на Украину опубликовали в американских СМИ осенью 2021 года. Их быстро подхватили американские и украинские политики. На фоне этих заявлений Киеву удалось добиться новых поставок вооружений из стран НАТО — особенно активно участие среди европейских стран приняла в них Великобритания, отправив на Украины тысячи противотанковых ракет. Однако в последние дни риторика киевских властей смягчается. В частности, 19 января секретарь Совета безопасности страны Алексей Данилов рассказал, что количества российских войск на украинской границе недостаточно для вторжения.',\n",
              "        'фото philip davali ritzau scanpix reuters дмитрий настасьев россия украина иметь высокий шанс урегулировать нынешний обострение страна мир заявление выступить глава мид украина дмитрий кулеб очередной брифинг украинский внешнеполитический ведомство передавать россия прибегнуть вооружить эскалация защищаться бороться шанс дипломатия смочь достигнуть успех рассказать кулеб конфликт москва киев решить мир уверенный фон слух якобы намечаться февраль год российский вторжение украинец начать массово скупать магазин продукт число гречка сахар многий гражданин республика действительно верить скорый военный агрессия сторона россия провоцировать подобный поведение успокаивать украинец прийтись президент страна владимир зеленский призвать человек поддаваться паника сообщение план россия вторжение украина опубликовать американский сми осень год быстро подхватить американский украинский политик фон заявление киев удаться добиться новый поставка вооружение страна нато особенно активно участие среди европейский страна принять великобритания отправить украина тысяча противотанковый ракета однако последний день риторика киевский власть смягчаться частность январь секретарь совет безопасность страна алексей данилов рассказать количество российский войско украинский граница недостаточный вторжение']],\n",
              "      dtype=object)"
            ]
          },
          "metadata": {},
          "execution_count": 23
        }
      ]
    },
    {
      "cell_type": "markdown",
      "source": [
        "## Word2Vec"
      ],
      "metadata": {
        "id": "UDLJNpwrF1qy"
      }
    },
    {
      "cell_type": "markdown",
      "source": [
        "Давайте теперь применим альтернативный подход к представлению слов - Word2Vec. Этот метод основывается на семантической близости слов. Построим модель на нашей выборке новостей."
      ],
      "metadata": {
        "id": "EBfoDKBbF6lX"
      }
    },
    {
      "cell_type": "code",
      "source": [
        "model = Word2Vec(sentences=df['title_clean'].str.split(),\n",
        "                 vector_size=200,\n",
        "                 min_count=10,\n",
        "                 window=2,\n",
        "                 seed=RND_STATE)"
      ],
      "metadata": {
        "id": "lahWvC2cFCB-"
      },
      "execution_count": 25,
      "outputs": []
    },
    {
      "cell_type": "markdown",
      "source": [
        "Посмотрим, насколько разумные у нас получились вектора.\n",
        "\n"
      ],
      "metadata": {
        "id": "yUf-8SFCGUT8"
      }
    },
    {
      "cell_type": "code",
      "source": [
        "model.wv.most_similar(positive=[\"вакцина\"])"
      ],
      "metadata": {
        "colab": {
          "base_uri": "https://localhost:8080/"
        },
        "id": "fPaBxnQ-GVL5",
        "outputId": "6965bb45-6817-47da-df2b-77b56c738536"
      },
      "execution_count": 26,
      "outputs": [
        {
          "output_type": "execute_result",
          "data": {
            "text/plain": [
              "[('вакцинация', 0.9936399459838867),\n",
              " ('штамм', 0.9931243062019348),\n",
              " ('борьба', 0.9925747513771057),\n",
              " ('лекарство', 0.9893422722816467),\n",
              " ('грипп', 0.9885976910591125),\n",
              " ('сутки', 0.9884377717971802),\n",
              " ('пандемия', 0.9875685572624207),\n",
              " ('мутация', 0.9875579476356506),\n",
              " ('ограничение', 0.9875509142875671),\n",
              " ('волна', 0.9873950481414795)]"
            ]
          },
          "metadata": {},
          "execution_count": 26
        }
      ]
    },
    {
      "cell_type": "markdown",
      "source": [
        "В целом все логично: близкие вектора - это вектора слов, обозначающих болезни и связанные с ними слова."
      ],
      "metadata": {
        "id": "TUhoeL91GpR2"
      }
    },
    {
      "cell_type": "code",
      "source": [
        "model.wv.most_similar(positive=[\"путин\"])"
      ],
      "metadata": {
        "colab": {
          "base_uri": "https://localhost:8080/"
        },
        "id": "1BLnrH-yGY4H",
        "outputId": "85cdbd07-9fa5-49f8-f61d-db173be5fa35"
      },
      "execution_count": 27,
      "outputs": [
        {
          "output_type": "execute_result",
          "data": {
            "text/plain": [
              "[('зеленский', 0.9957272410392761),\n",
              " ('кремль', 0.99076247215271),\n",
              " ('байден', 0.9856115579605103),\n",
              " ('возможность', 0.984728217124939),\n",
              " ('лукашенко', 0.9841989278793335),\n",
              " ('готовность', 0.9838525056838989),\n",
              " ('слово', 0.9832051396369934),\n",
              " ('трамп', 0.9824982285499573),\n",
              " ('мид', 0.9819431900978088),\n",
              " ('вопрос', 0.9818465709686279)]"
            ]
          },
          "metadata": {},
          "execution_count": 27
        }
      ]
    },
    {
      "cell_type": "code",
      "source": [
        "model.wv.most_similar(positive=[\"нефть\"])"
      ],
      "metadata": {
        "colab": {
          "base_uri": "https://localhost:8080/"
        },
        "id": "NnhqSUo_HQr7",
        "outputId": "7dad8597-5d9f-4cbf-c135-eb258bdb86a3"
      },
      "execution_count": 30,
      "outputs": [
        {
          "output_type": "execute_result",
          "data": {
            "text/plain": [
              "[('газ', 0.9963499903678894),\n",
              " ('рост', 0.9828960299491882),\n",
              " ('европа', 0.9693187475204468),\n",
              " ('бензин', 0.9677265286445618),\n",
              " ('потолок', 0.9675039052963257),\n",
              " ('поставка', 0.9632241725921631),\n",
              " ('вырасти', 0.961024284362793),\n",
              " ('снижение', 0.959913969039917),\n",
              " ('резко', 0.9589304327964783),\n",
              " ('продукт', 0.9585208892822266)]"
            ]
          },
          "metadata": {},
          "execution_count": 30
        }
      ]
    },
    {
      "cell_type": "markdown",
      "source": [
        "Видим, что все выглядит очень логично и даже увлекательно :)\n",
        "\n",
        "Чтобы построить модель, нам нужно получить вектора для предложения. Это можно сделать двумя способами:\n",
        "\n",
        "- Усреднить вектора слов, входящих в предложение\n",
        "- Взвесить вектора слов, входящих в предложение на основании их tf-idf весов\n",
        "\n",
        "Важно заметить, что здесь легко совершить методологическую ошибку. Ранее мы обучали вектора на всей выборке, а теперь для валидации сделаем честный эксперимент и обучим только на тренировочной."
      ],
      "metadata": {
        "id": "VXUsxV96JYe2"
      }
    },
    {
      "cell_type": "code",
      "source": [
        "X_train, X_test, y_train, y_test = train_test_split(df['content\\t_clean'].str.split(),\n",
        "                                                    df['topic'].values,\n",
        "                                                    random_state=RND_STATE)\n",
        "\n",
        "model = Word2Vec(sentences=X_train,\n",
        "                 vector_size=200,\n",
        "                 min_count=10,\n",
        "                 window=2,\n",
        "                 seed=RND_STATE)"
      ],
      "metadata": {
        "id": "yUsN_KgEHc_o"
      },
      "execution_count": 31,
      "outputs": []
    },
    {
      "cell_type": "markdown",
      "source": [
        "Для того, чтобы по-прежнему использовать Pipeline, оформим описанные выше подходы в классы."
      ],
      "metadata": {
        "id": "u__fBm4hLcY9"
      }
    },
    {
      "cell_type": "markdown",
      "source": [
        "### Логистическая регрессия"
      ],
      "metadata": {
        "id": "CAvhgxScPw7Q"
      }
    },
    {
      "cell_type": "code",
      "source": [
        "class MeanEmbeddingVectorizer(object):\n",
        "    \"\"\"Get mean of vectors\"\"\"\n",
        "    def __init__(self, model):\n",
        "        self.word2vec = model.wv\n",
        "        self.dim = model.vector_size\n",
        "\n",
        "    def fit(self, X, y):\n",
        "        return self\n",
        "\n",
        "    def transform(self, X):\n",
        "        return np.array([\n",
        "            np.mean([self.word2vec.get_vector(w)\n",
        "                for w in words if w in self.word2vec] or\n",
        "                [np.zeros(self.dim)], axis=0)\n",
        "            for words in X])"
      ],
      "metadata": {
        "id": "4PrGajTXLcrH"
      },
      "execution_count": 32,
      "outputs": []
    },
    {
      "cell_type": "code",
      "source": [
        "# векторизация (усреднение векторов слов)\n",
        "pipe = Pipeline([('w2v', MeanEmbeddingVectorizer(model)),\n",
        "                 ('clf', LogisticRegression(random_state=RND_STATE,\n",
        "                                            max_iter=1000))])\n",
        "\n",
        "pipe.fit(X_train, y_train)\n",
        "\n",
        "print(classification_report(y_test, pipe.predict(X_test)))"
      ],
      "metadata": {
        "colab": {
          "base_uri": "https://localhost:8080/"
        },
        "id": "hUjTr4ahLkT9",
        "outputId": "18799dad-8b25-4368-9f18-35695df20530"
      },
      "execution_count": 36,
      "outputs": [
        {
          "output_type": "stream",
          "name": "stdout",
          "text": [
            "                   precision    recall  f1-score   support\n",
            "\n",
            "      Бывший СССР       0.76      0.69      0.72       916\n",
            "              Мир       0.78      0.83      0.81      1318\n",
            "  Наука и техника       0.86      0.83      0.84       489\n",
            "           Россия       0.78      0.82      0.80      1778\n",
            "Силовые структуры       0.85      0.81      0.83       532\n",
            "            Спорт       0.99      0.96      0.97       551\n",
            "        Экономика       0.87      0.86      0.87       931\n",
            "\n",
            "         accuracy                           0.82      6515\n",
            "        macro avg       0.84      0.83      0.83      6515\n",
            "     weighted avg       0.82      0.82      0.82      6515\n",
            "\n"
          ]
        }
      ]
    },
    {
      "cell_type": "code",
      "source": [
        "y_pred = pipe.predict(X_test)"
      ],
      "metadata": {
        "id": "2LKLiLUeLnsW"
      },
      "execution_count": 35,
      "outputs": []
    },
    {
      "cell_type": "code",
      "source": [
        "# Построим для данной модели Confusion Matrix\n",
        "\n",
        "from sklearn.metrics import confusion_matrix, ConfusionMatrixDisplay\n",
        "\n",
        "cm = confusion_matrix(y_test, y_pred, labels=pipe.classes_)\n",
        "\n",
        "cm_df = pd.DataFrame(data=cm, columns=pipe.classes_, index=pipe.classes_)\n",
        "\n",
        "plt.figure(figsize=(16, 4))\n",
        "\n",
        "sns.heatmap(cm_df, square=False, annot=True, cmap=\"Blues\", fmt=\"d\", cbar=False);"
      ],
      "metadata": {
        "colab": {
          "base_uri": "https://localhost:8080/",
          "height": 241
        },
        "id": "z9o-_rlFMT0c",
        "outputId": "20f48232-0e2c-4ea8-e86f-3bf447f4b6f3"
      },
      "execution_count": 38,
      "outputs": [
        {
          "output_type": "display_data",
          "data": {
            "text/plain": [
              "<Figure size 1600x400 with 1 Axes>"
            ],
            "image/png": "[encoded data removed]"
          },
          "metadata": {}
        }
      ]
    },
    {
      "cell_type": "markdown",
      "source": [
        "#### Tf-Idf"
      ],
      "metadata": {
        "id": "hiaIPSWAPolO"
      }
    },
    {
      "cell_type": "code",
      "source": [
        "# Векторное представление слов и преобразование векторов слов с помощью Tf-Idf\n",
        "class TfidfEmbeddingVectorizer(object):\n",
        "    \"\"\"Get tfidf weighted vectors\"\"\"\n",
        "    def __init__(self, model):\n",
        "        self.word2vec = model.wv\n",
        "        self.word2weight = None\n",
        "        self.dim = model.vector_size\n",
        "\n",
        "    def fit(self, X, y):\n",
        "        tfidf = TfidfVectorizer(analyzer=lambda x: x)\n",
        "        tfidf.fit(X)\n",
        "        # if a word was never seen - it must be at least as infrequent\n",
        "        # as any of the known words - so the default idf is the max of\n",
        "        # known idf's\n",
        "        max_idf = max(tfidf.idf_)\n",
        "        self.word2weight = defaultdict(\n",
        "            lambda: max_idf,\n",
        "            [(w, tfidf.idf_[i]) for w, i in tfidf.vocabulary_.items()])\n",
        "\n",
        "        return self\n",
        "\n",
        "    def transform(self, X):\n",
        "        return np.array([\n",
        "                np.mean([self.word2vec.get_vector(w) * self.word2weight[w]\n",
        "                         for w in words if w in self.word2vec] or\n",
        "                        [np.zeros(self.dim)], axis=0)\n",
        "                for words in X\n",
        "            ])"
      ],
      "metadata": {
        "id": "S2L-ho1JNXd2"
      },
      "execution_count": 44,
      "outputs": []
    },
    {
      "cell_type": "code",
      "source": [
        "pipe_tf_idf = Pipeline([('w2v', TfidfEmbeddingVectorizer(model)),\n",
        "                 ('clf', LogisticRegression(random_state=RND_STATE,\n",
        "                                            max_iter=10000))])\n",
        "\n",
        "pipe_tf_idf.fit(X_train, y_train)\n",
        "\n",
        "print(classification_report(y_test, pipe_tf_idf.predict(X_test)))"
      ],
      "metadata": {
        "colab": {
          "base_uri": "https://localhost:8080/"
        },
        "id": "-VjIzVBJOHtX",
        "outputId": "4e58fbd9-29e5-40b3-b4e4-838f00c5bfbb"
      },
      "execution_count": 45,
      "outputs": [
        {
          "output_type": "stream",
          "name": "stdout",
          "text": [
            "                   precision    recall  f1-score   support\n",
            "\n",
            "      Бывший СССР       0.78      0.71      0.75       916\n",
            "              Мир       0.81      0.84      0.82      1318\n",
            "  Наука и техника       0.87      0.85      0.86       489\n",
            "           Россия       0.79      0.83      0.81      1778\n",
            "Силовые структуры       0.87      0.82      0.84       532\n",
            "            Спорт       0.99      0.97      0.98       551\n",
            "        Экономика       0.87      0.86      0.87       931\n",
            "\n",
            "         accuracy                           0.83      6515\n",
            "        macro avg       0.85      0.84      0.85      6515\n",
            "     weighted avg       0.83      0.83      0.83      6515\n",
            "\n"
          ]
        }
      ]
    },
    {
      "cell_type": "code",
      "source": [
        "y_pred = pipe_tf_idf.predict(X_test)"
      ],
      "metadata": {
        "id": "VA-_aWnmOThs"
      },
      "execution_count": 46,
      "outputs": []
    },
    {
      "cell_type": "code",
      "source": [
        "# Построим для данной модели Confusion Matrix\n",
        "\n",
        "from sklearn.metrics import confusion_matrix, ConfusionMatrixDisplay\n",
        "\n",
        "cm = confusion_matrix(y_test, y_pred, labels=pipe_tf_idf.classes_)\n",
        "\n",
        "cm_df = pd.DataFrame(data=cm, columns=pipe_tf_idf.classes_, index=pipe_tf_idf.classes_)\n",
        "\n",
        "plt.figure(figsize=(16, 4))\n",
        "\n",
        "sns.heatmap(cm_df, square=False, annot=True, cmap=\"Blues\", fmt=\"d\", cbar=False);"
      ],
      "metadata": {
        "colab": {
          "base_uri": "https://localhost:8080/",
          "height": 241
        },
        "id": "c7ZQMmqAPWXq",
        "outputId": "e33eb239-b3ba-4a7d-895f-e8d5f910a9b0"
      },
      "execution_count": 48,
      "outputs": [
        {
          "output_type": "display_data",
          "data": {
            "text/plain": [
              "<Figure size 1600x400 with 1 Axes>"
            ],
            "image/png": "[encoded data removed]"
          },
          "metadata": {}
        }
      ]
    },
    {
      "cell_type": "markdown",
      "source": [
        "### Метод опорных векторов SVM"
      ],
      "metadata": {
        "id": "VxDZmhiPPljQ"
      }
    },
    {
      "cell_type": "code",
      "source": [
        "# SVM + векторизация (усреднение векторов слов)\n",
        "pipe_SVM_mean = Pipeline([('w2v', MeanEmbeddingVectorizer(model)),\n",
        "                 (\"clf\", SVC(random_state=RND_STATE, max_iter=10000))])\n",
        "\n",
        "pipe_SVM_mean.fit(X_train, y_train)\n",
        "\n",
        "print(classification_report(y_test, pipe_SVM_mean.predict(X_test)))"
      ],
      "metadata": {
        "colab": {
          "base_uri": "https://localhost:8080/"
        },
        "id": "nNjFE_4QSAtv",
        "outputId": "1d5b94aa-f7c8-4519-a5d2-ec8552fcf496"
      },
      "execution_count": 52,
      "outputs": [
        {
          "output_type": "stream",
          "name": "stdout",
          "text": [
            "                   precision    recall  f1-score   support\n",
            "\n",
            "      Бывший СССР       0.78      0.72      0.75       916\n",
            "              Мир       0.78      0.85      0.81      1318\n",
            "  Наука и техника       0.89      0.84      0.87       489\n",
            "           Россия       0.82      0.82      0.82      1778\n",
            "Силовые структуры       0.86      0.83      0.84       532\n",
            "            Спорт       0.99      0.95      0.97       551\n",
            "        Экономика       0.86      0.88      0.87       931\n",
            "\n",
            "         accuracy                           0.83      6515\n",
            "        macro avg       0.85      0.84      0.85      6515\n",
            "     weighted avg       0.83      0.83      0.83      6515\n",
            "\n"
          ]
        }
      ]
    },
    {
      "cell_type": "code",
      "source": [
        "y_pred = pipe_SVM_mean.predict(X_test)"
      ],
      "metadata": {
        "id": "RZOEYAiLSsi9"
      },
      "execution_count": 53,
      "outputs": []
    },
    {
      "cell_type": "code",
      "source": [
        "# Построим для данной модели Confusion Matrix\n",
        "\n",
        "from sklearn.metrics import confusion_matrix, ConfusionMatrixDisplay\n",
        "\n",
        "cm = confusion_matrix(y_test, y_pred, labels=pipe_SVM_mean.classes_)\n",
        "\n",
        "cm_df = pd.DataFrame(data=cm, columns=pipe_SVM_mean.classes_, index=pipe_SVM_mean.classes_)\n",
        "\n",
        "plt.figure(figsize=(16, 4))\n",
        "\n",
        "sns.heatmap(cm_df, square=False, annot=True, cmap=\"Blues\", fmt=\"d\", cbar=False);"
      ],
      "metadata": {
        "colab": {
          "base_uri": "https://localhost:8080/",
          "height": 241
        },
        "id": "qgqp3pMZSwJp",
        "outputId": "8b5edeca-8cd1-4d44-cfc8-0d57941da10c"
      },
      "execution_count": 54,
      "outputs": [
        {
          "output_type": "display_data",
          "data": {
            "text/plain": [
              "<Figure size 1600x400 with 1 Axes>"
            ],
            "image/png": "[encoded data removed]"
          },
          "metadata": {}
        }
      ]
    },
    {
      "cell_type": "code",
      "source": [
        "# SVM + Векторное представление слов и преобразование векторов слов с помощью Tf-Idf\n",
        "pipe_SVM_tf_idf = Pipeline([(\"w2v\", TfidfEmbeddingVectorizer(model)),\n",
        "                     (\"clf\", SVC(random_state=RND_STATE, max_iter=10000))])\n",
        "\n",
        "pipe_SVM_tf_idf.fit(X_train, y_train)\n",
        "\n",
        "print(classification_report(y_test, pipe_SVM_tf_idf.predict(X_test)))"
      ],
      "metadata": {
        "colab": {
          "base_uri": "https://localhost:8080/"
        },
        "id": "lyNdBUmZPaG2",
        "outputId": "f48ae008-b903-499f-bcc3-03784010cffc"
      },
      "execution_count": 49,
      "outputs": [
        {
          "output_type": "stream",
          "name": "stdout",
          "text": [
            "                   precision    recall  f1-score   support\n",
            "\n",
            "      Бывший СССР       0.77      0.72      0.75       916\n",
            "              Мир       0.79      0.85      0.82      1318\n",
            "  Наука и техника       0.91      0.85      0.88       489\n",
            "           Россия       0.82      0.82      0.82      1778\n",
            "Силовые структуры       0.86      0.82      0.84       532\n",
            "            Спорт       0.99      0.97      0.98       551\n",
            "        Экономика       0.86      0.89      0.87       931\n",
            "\n",
            "         accuracy                           0.84      6515\n",
            "        macro avg       0.86      0.84      0.85      6515\n",
            "     weighted avg       0.84      0.84      0.84      6515\n",
            "\n"
          ]
        }
      ]
    },
    {
      "cell_type": "code",
      "source": [
        "y_pred = pipe_SVM_tf_idf.predict(X_test)"
      ],
      "metadata": {
        "id": "wtVoseBMQIHu"
      },
      "execution_count": 50,
      "outputs": []
    },
    {
      "cell_type": "code",
      "source": [
        "# Построим для данной модели Confusion Matrix\n",
        "\n",
        "from sklearn.metrics import confusion_matrix, ConfusionMatrixDisplay\n",
        "\n",
        "cm = confusion_matrix(y_test, y_pred, labels=pipe_SVM_tf_idf.classes_)\n",
        "\n",
        "cm_df = pd.DataFrame(data=cm, columns=pipe_SVM_tf_idf.classes_, index=pipe_SVM_tf_idf.classes_)\n",
        "\n",
        "plt.figure(figsize=(16, 4))\n",
        "\n",
        "sns.heatmap(cm_df, square=False, annot=True, cmap=\"Blues\", fmt=\"d\", cbar=False);"
      ],
      "metadata": {
        "colab": {
          "base_uri": "https://localhost:8080/",
          "height": 241
        },
        "id": "2nwe8YZuQQlr",
        "outputId": "a8bf3797-5c6e-424b-9a70-bb719eea303a"
      },
      "execution_count": 51,
      "outputs": [
        {
          "output_type": "display_data",
          "data": {
            "text/plain": [
              "<Figure size 1600x400 with 1 Axes>"
            ],
            "image/png": "[encoded data removed]"
          },
          "metadata": {}
        }
      ]
    },
    {
      "cell_type": "markdown",
      "source": [
        "### Вывод\n",
        "\n",
        "Были построены 4 модели:\n",
        "- логистическая регрессия + усреднить вектора слов, входящих в предложение;\n",
        "\n",
        "`accuracy 0.82`\n",
        "- лоничстическая регрессия + взвесить вектора слов, входящих в предложение на основании их tf-idf весов;\n",
        "\n",
        "`accuracy 0.83`\n",
        "- метод опорных векторов + усреднить вектора слов, входящих в предложение;\n",
        "\n",
        "`accuracy 0.84`\n",
        "- метод опорных векторов + взвесить вектора слов, входящих в предложение на основании их tf-idf весов;\n",
        "\n",
        "`accuracy 0.83`"
      ],
      "metadata": {
        "id": "NDslcUFFRCuw"
      }
    },
    {
      "cell_type": "markdown",
      "source": [
        "Давольно часто путались рубрики Бывший СССР, Мир, Россия, Силовые структуры. Однако эти рубрики очень похожи друг на друга, да и еще был не очень сбалансированный датасет. Особо различий между моделями нет, все хорошо справились."
      ],
      "metadata": {
        "id": "glfR-UeXTnoG"
      }
    },
    {
      "cell_type": "code",
      "source": [],
      "metadata": {
        "id": "mhO1QhPlQd81"
      },
      "execution_count": null,
      "outputs": []
    }
  ]
}